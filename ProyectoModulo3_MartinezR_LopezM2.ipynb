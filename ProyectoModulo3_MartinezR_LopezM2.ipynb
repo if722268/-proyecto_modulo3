{
 "cells": [
  {
   "cell_type": "code",
   "execution_count": 1,
   "metadata": {},
   "outputs": [],
   "source": [
    "import matplotlib.pyplot as plt\n",
    "%matplotlib inline\n",
    "from ipywidgets import *"
   ]
  },
  {
   "cell_type": "code",
   "execution_count": 2,
   "metadata": {},
   "outputs": [],
   "source": [
    "import numpy as np"
   ]
  },
  {
   "cell_type": "code",
   "execution_count": 3,
   "metadata": {},
   "outputs": [
    {
     "name": "stdout",
     "output_type": "stream",
     "text": [
      "el num de periodos que de debe de dejar invertido el dinero es 12 . Al final del periodo k el capital es 11003.39\n"
     ]
    }
   ],
   "source": [
    "#Solución\n",
    "c0=10000\n",
    "cf=11000\n",
    "i=.008\n",
    "\n",
    "k=np.ceil(np.log(cf/c0)/np.log(1+i))\n",
    "k=k.astype(int)\n",
    "\n",
    "ck=c0*(1+i)**k\n",
    "ck=round(ck,2)\n",
    "print('el num de periodos que de debe de dejar invertido el dinero es',k,'. Al final del periodo','k','el capital es',ck)"
   ]
  },
  {
   "cell_type": "code",
   "execution_count": 4,
   "metadata": {},
   "outputs": [
    {
     "data": {
      "application/vnd.jupyter.widget-view+json": {
       "model_id": "3262784115ba443f9d4503733363dc84",
       "version_major": 2,
       "version_minor": 0
      },
      "text/plain": [
       "interactive(children=(IntSlider(value=505000, description='meta', max=1000000, min=10000, step=100), Button(de…"
      ]
     },
     "metadata": {},
     "output_type": "display_data"
    }
   ],
   "source": [
    "def interes_compuesto(C_0, meta, i):\n",
    "    k = np.ceil(np.log(meta/C_0)/np.log(1+i))\n",
    "    k = k.astype(int)\n",
    "    C_k = C_0*(1+i)**k                   \n",
    "    C_k = round(C_k,2)\n",
    "    kk = np.linspace(0,k,k+1)\n",
    "    CC = C_0*(1+i)**kk\n",
    "    plt.figure(num=1); plt.clf()            \n",
    "    plt.plot(kk, CC,'*',linewidth=3.0)      \n",
    "    plt.plot(kk,meta*np.ones(k+1),'--k')    \n",
    "    plt.xlabel('$k$',fontsize=18)                         \n",
    "    plt.ylabel('$C_k$',fontsize=18)                       \n",
    "    plt.grid(True)                          \n",
    "    plt.show()                          \n",
    "    print(\"El número de periodos que se debe dejar invertido el dinero para llegar a la meta de \", meta,\" es \", k,\n",
    "          \". Al final del periodo \", k,\", el capital es \", C_k, \".\", sep=\"\")\n",
    "    \n",
    "interact_manual(interes_compuesto, C_0=fixed(10000), meta=(10000,1000000,100), i=fixed(0.2));"
   ]
  },
  {
   "cell_type": "code",
   "execution_count": null,
   "metadata": {},
   "outputs": [],
   "source": []
  },
  {
   "cell_type": "code",
   "execution_count": null,
   "metadata": {},
   "outputs": [],
   "source": []
  }
 ],
 "metadata": {
  "kernelspec": {
   "display_name": "Python 3",
   "language": "python",
   "name": "python3"
  },
  "language_info": {
   "codemirror_mode": {
    "name": "ipython",
    "version": 3
   },
   "file_extension": ".py",
   "mimetype": "text/x-python",
   "name": "python",
   "nbconvert_exporter": "python",
   "pygments_lexer": "ipython3",
   "version": "3.7.3"
  }
 },
 "nbformat": 4,
 "nbformat_minor": 2
}
